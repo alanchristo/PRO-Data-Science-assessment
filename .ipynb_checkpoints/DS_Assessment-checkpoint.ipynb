{
 "cells": [
  {
   "cell_type": "code",
   "execution_count": 31,
   "id": "e0be96c1-ca1f-4ecc-b15a-e2aaa2702720",
   "metadata": {},
   "outputs": [],
   "source": [
    "import pandas as pd\n",
    "import matplotlib.pyplot as plt"
   ]
  },
  {
   "cell_type": "code",
   "execution_count": 3,
   "id": "5f3e8a3b-de61-4a42-a956-17db027f1497",
   "metadata": {},
   "outputs": [],
   "source": [
    "dataset = pd.read_csv('books.csv')"
   ]
  },
  {
   "cell_type": "markdown",
   "id": "842ebf83-d74a-49bf-a5ab-0dca8d7dc818",
   "metadata": {},
   "source": [
    "# Q1: How many rows and columns are there in books.csv dataset?"
   ]
  },
  {
   "cell_type": "code",
   "execution_count": 6,
   "id": "9607be41-e05e-4a2d-96a6-fa72fcd38aa7",
   "metadata": {},
   "outputs": [
    {
     "name": "stdout",
     "output_type": "stream",
     "text": [
      "Number of rows = 399\n",
      "Number of Columns = 24\n"
     ]
    }
   ],
   "source": [
    "rows,columns = dataset.shape\n",
    "print(\"Number of rows =\",rows)\n",
    "print(\"Number of Columns =\",columns)"
   ]
  },
  {
   "cell_type": "markdown",
   "id": "65af145d-31f6-4ac2-9f1d-84dcc5cc9edf",
   "metadata": {},
   "source": [
    "# Q2: How many books do not have an original title?"
   ]
  },
  {
   "cell_type": "code",
   "execution_count": 12,
   "id": "22a7a025-26e1-442f-b20a-2b46fb969600",
   "metadata": {},
   "outputs": [
    {
     "name": "stdout",
     "output_type": "stream",
     "text": [
      "Number of books with no title = 36\n"
     ]
    }
   ],
   "source": [
    "no_title_books = dataset[dataset['original_title'].isnull()].shape[0]\n",
    "print(\"Number of books with no title =\", no_title_books)"
   ]
  },
  {
   "cell_type": "markdown",
   "id": "eb4259d7-b95e-44ad-801b-0ef745446b65",
   "metadata": {},
   "source": [
    "# Q3: How many unique books are present in the dataset ? Evaluate based on the 'book_id' after removing null values in the original_title column."
   ]
  },
  {
   "cell_type": "code",
   "execution_count": 14,
   "id": "f4295b86-bd49-480a-ba43-3b5ac0d2f8ee",
   "metadata": {},
   "outputs": [
    {
     "name": "stdout",
     "output_type": "stream",
     "text": [
      "Number of Unique Books = 363\n"
     ]
    }
   ],
   "source": [
    "null_filtered = dataset.dropna(subset=['original_title'])\n",
    "unique_books = null_filtered['book_id'].nunique()\n",
    "\n",
    "print(\"Number of Unique Books =\",unique_books)"
   ]
  },
  {
   "cell_type": "markdown",
   "id": "049e127f-a830-4021-80dc-ead45cd9cf54",
   "metadata": {},
   "source": [
    "# Q4: What is the average rating of all the books in the dataset based on ‘average_rating’?"
   ]
  },
  {
   "cell_type": "code",
   "execution_count": 17,
   "id": "1a278055-ca72-46b9-a491-8b142342fd52",
   "metadata": {},
   "outputs": [
    {
     "name": "stdout",
     "output_type": "stream",
     "text": [
      "Average rating of all books = 3.9837844611528817\n"
     ]
    }
   ],
   "source": [
    "avg_rating = dataset['average_rating'].mean()\n",
    "print(\"Average rating of all books =\", avg_rating)"
   ]
  },
  {
   "cell_type": "markdown",
   "id": "2dab7a97-2005-4e7d-be75-37a1e244da47",
   "metadata": {},
   "source": [
    "# Q5: Find the number of books published in the year ‘2000’ based on the ‘original_publication_year’."
   ]
  },
  {
   "cell_type": "code",
   "execution_count": 23,
   "id": "b9c72283-4963-469f-9f13-b5cecad17e8f",
   "metadata": {},
   "outputs": [
    {
     "name": "stdout",
     "output_type": "stream",
     "text": [
      "Number of books published in 2000 = 8\n"
     ]
    }
   ],
   "source": [
    "books_in_2000 = dataset[dataset['original_publication_year'] == 2000]\n",
    "books_in_2000_count = books_in_2000.shape[0]\n",
    "\n",
    "print(\"Number of books published in 2000 =\",books_in_2000_count)"
   ]
  },
  {
   "cell_type": "markdown",
   "id": "1c24a1b7-0bf0-4fd0-a6c6-595a286a70db",
   "metadata": {},
   "source": [
    "# Q6: Which book (title) has the maximum number of ratings based on ‘work_ratings_count’."
   ]
  },
  {
   "cell_type": "code",
   "execution_count": 26,
   "id": "f4a3a50e-110a-4412-ae37-7a0ce44d9c3b",
   "metadata": {},
   "outputs": [
    {
     "name": "stdout",
     "output_type": "stream",
     "text": [
      "The book with maximum ratings is : The Diary of a Young Girl\n"
     ]
    }
   ],
   "source": [
    "book_with_max_rating = dataset[dataset['work_ratings_count'] == dataset['work_ratings_count'].max()]\n",
    "max_ratings_book_title = book_with_max_rating['title'].values[0]\n",
    "\n",
    "print(\"The book with maximum ratings is :\",max_ratings_book_title)"
   ]
  },
  {
   "cell_type": "markdown",
   "id": "9a0dd133-8d02-4f14-a199-4904e86e89c6",
   "metadata": {},
   "source": [
    "# Q7: Bucket the average_rating of books into 11 buckets [0, 0.5, 1.0, 1.5, 2.0, 2.5, 3.0, 3.5, 4.0, 4.5, 5.0] with 0.5 decimal rounding (eg: average_rating 3.0 to 3.49 will fall in bucket 3.0). Plot bar graph to show total number of books in each rating bucket."
   ]
  },
  {
   "cell_type": "code",
   "execution_count": 70,
   "id": "035cc8f6-0ffd-4752-973c-09a83e38d9aa",
   "metadata": {},
   "outputs": [
    {
     "data": {
      "image/png": "[encoded data removed]",
      "text/plain": [
       "<Figure size 1000x600 with 1 Axes>"
      ]
     },
     "metadata": {},
     "output_type": "display_data"
    }
   ],
   "source": [
    "bins = [0, 0.5, 1.0, 1.5, 2.0, 2.5, 3.0, 3.5, 4.0, 4.5, 5.0]\n",
    "dataset['rating_bucket'] = pd.cut(dataset['average_rating'], bins, labels=[str(b) for b in bins[:-1]], include_lowest=True, right=False)\n",
    "bucket_counts = dataset['rating_bucket'].value_counts().sort_index()\n",
    "\n",
    "plt.figure(figsize=(10,6))\n",
    "bucket_counts.plot(kind='bar')\n",
    "plt.xlabel('Average Rating')\n",
    "plt.ylabel('Number of Books')\n",
    "plt.title('Number of Books in Each Rating Bucket')\n",
    "plt.show()"
   ]
  },
  {
   "cell_type": "code",
   "execution_count": null,
   "id": "5d9dfc17-d6f3-4b63-9f43-b045bb6dff38",
   "metadata": {},
   "outputs": [],
   "source": []
  }
 ],
 "metadata": {
  "kernelspec": {
   "display_name": "Python 3 (ipykernel)",
   "language": "python",
   "name": "python3"
  },
  "language_info": {
   "codemirror_mode": {
    "name": "ipython",
    "version": 3
   },
   "file_extension": ".py",
   "mimetype": "text/x-python",
   "name": "python",
   "nbconvert_exporter": "python",
   "pygments_lexer": "ipython3",
   "version": "3.9.6"
  }
 },
 "nbformat": 4,
 "nbformat_minor": 5
}
